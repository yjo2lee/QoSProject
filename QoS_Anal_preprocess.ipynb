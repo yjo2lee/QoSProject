{
 "cells": [
  {
   "cell_type": "code",
   "execution_count": 76,
   "metadata": {},
   "outputs": [
    {
     "data": {
      "text/plain": [
       "array([[3.0000e+00, 4.0000e-01, 3.0000e+00, 5.3330e+01,        nan],\n",
       "       [3.0000e+00, 6.9000e+00, 3.0000e+00, 6.2910e+02,        nan],\n",
       "       [3.0000e+00, 1.0000e-01, 3.0000e+00, 2.0530e+01,        nan],\n",
       "       ...,\n",
       "       [3.9400e+02, 3.1600e+01, 9.0000e+00, 1.5645e+03,        nan],\n",
       "       [3.9400e+02, 5.1300e+01, 1.0000e+01, 7.9981e+03,        nan],\n",
       "       [3.9400e+02, 6.0400e+01, 1.0000e+01, 2.8960e+03,        nan]])"
      ]
     },
     "execution_count": 76,
     "metadata": {},
     "output_type": "execute_result"
    }
   ],
   "source": [
    "# -*- coding: utf-8 -*-\n",
    "\n",
    "import openpyxl\n",
    "import numpy as np\n",
    "from scipy import stats\n",
    "import matplotlib.pyplot as plt\n",
    "from numpy.linalg import inv\n",
    "from scipy.stats import norm\n",
    "\n",
    "\n",
    "def QQ(vec):\n",
    "    v = np.sort(vec)\n",
    "    q = stats.norm.ppf((np.arange(len(v))+1-0.375)/(len(v)+0.25))\n",
    "    return v, q\n",
    "\n",
    "def RB_fit(RB):\n",
    "    RB_ord = np.sort(RB)/100\n",
    "    th_q = stats.norm.ppf((np.arange(len(RB))+1-0.375)/(len(RB)+0.25))\n",
    "    q = th_q\n",
    "    l = np.log(RB_ord)\n",
    "    h = np.log(1-RB_ord)\n",
    "    d = (np.mean(l*l) - pow(np.mean(l),2))*(np.mean(h*h) - pow(np.mean(h),2)) - pow(np.mean(l*h) - np.mean(l)*np.mean(h),2)\n",
    "    d1 = (np.mean(h*h) - pow(np.mean(h),2))*(np.mean(l*q) - np.mean(l)*np.mean(q))-(np.mean(l*h) - np.mean(l)*np.mean(h))*(np.mean(h*q) - np.mean(h)*np.mean(q))\n",
    "    d2 = (np.mean(l*h) - np.mean(l)*np.mean(h))*(np.mean(l*q) - np.mean(l)*np.mean(q)) - (np.mean(l*l) - pow(np.mean(l),2))*(np.mean(h*q) - np.mean(h)*np.mean(q))\n",
    "    if d1 < 0:\n",
    "        a = 0\n",
    "        b = -(np.mean(h*q) - np.mean(h)*np.mean(q))/(np.mean(h*h) - pow(np.mean(h),2))\n",
    "    elif d2 < 0:\n",
    "        a = (np.mean(l*q) - np.mean(l)*np.mean(q))/(np.mean(l*l) - pow(np.mean(l),2))\n",
    "        b = 0\n",
    "    else:\n",
    "        a = d1/d\n",
    "        b = d2/d\n",
    "    c = np.mean(q) - a*np.mean(l) + b*np.mean(h)\n",
    "    RB_t = a*l - b*h + c\n",
    "    _, pv = stats.kstest(RB_t,'norm')\n",
    "    return a, b, c, pv, RB_t, th_q\n",
    "\n",
    "def TP_fit(TP):\n",
    "    TP_ord = np.sort(TP)\n",
    "    th_q = stats.norm.ppf((np.arange(len(TP))+1-0.375)/(len(TP)+0.25))\n",
    "    q = th_q\n",
    "    g = np.log(TP_ord)\n",
    "    t = TP_ord\n",
    "    d = (np.mean(g*g) - pow(np.mean(g),2))*(np.mean(t*t) - pow(np.mean(t),2)) - pow(np.mean(g*t) - np.mean(g)*np.mean(t),2)\n",
    "    d1 = (np.mean(t*t) - pow(np.mean(t),2))*(np.mean(g*q) - np.mean(g)*np.mean(q))-(np.mean(g*t) - np.mean(g)*np.mean(t))*(np.mean(t*q) - np.mean(t)*np.mean(q))\n",
    "    d2 = (np.mean(g*g) - pow(np.mean(g),2))*(np.mean(t*q) - np.mean(t)*np.mean(q))-(np.mean(t*g) - np.mean(t)*np.mean(g))*(np.mean(g*q) - np.mean(g)*np.mean(q))\n",
    "    if d1 < 0:\n",
    "        a = 0\n",
    "        b = (np.mean(g*q) - np.mean(g)*np.mean(q))/(np.mean(g*g) - pow(np.mean(g),2))\n",
    "    elif d2 < 0:\n",
    "        a = (np.mean(t*q) - np.mean(t)*np.mean(q))/(np.mean(t*t) - pow(np.mean(t),2))\n",
    "        b = 0\n",
    "    else:\n",
    "        a = d1/d\n",
    "        b = d2/d\n",
    "    c = np.mean(q) - a*np.mean(g) - b*np.mean(t)\n",
    "    TP_t = a*g + b*t + c\n",
    "    _, pv = stats.kstest(TP_t,'norm')\n",
    "    return a, b, c, pv, TP_t, th_q\n",
    "\n",
    "RD = openpyxl.load_workbook('data_prep_ver2.xlsx', data_only=True)\n",
    "st = RD['Sheet1']\n",
    "\n",
    "Data = np.zeros((1,5))\n",
    "i = 2\n",
    "value = st['B%d' %i].value\n",
    "while value != None:\n",
    "    Data = np.vstack((Data, np.array([st['B%d' %i].value, st['C%d' % i].value, st['D%d' %i].value, st['E%d' %i].value, st['FB%d' %i].value])))\n",
    "    # PCI, RB, RNTI, TP, Timestamp\n",
    "    i += 1\n",
    "    value = st['B%d' %i].value\n",
    "Data = Data[1:,:].astype(np.float64)\n",
    "Data"
   ]
  },
  {
   "cell_type": "code",
   "execution_count": 77,
   "metadata": {},
   "outputs": [
    {
     "data": {
      "text/plain": [
       "3184"
      ]
     },
     "execution_count": 77,
     "metadata": {},
     "output_type": "execute_result"
    }
   ],
   "source": [
    "#length가 30 미만인 RNTI 삭제\n",
    "len_per_rnti = np.array([len(Data[Data[:,2] == np.float(i), 1]) for i in range(20)])\n",
    "selected_rnti = np.where(len_per_rnti>30)\n",
    "Data = Data[np.where(np.isin(Data[:,2], selected_rnti)),]\n",
    "Data = np.reshape(Data, (len(Data[0]),5))"
   ]
  },
  {
   "cell_type": "code",
   "execution_count": 153,
   "metadata": {},
   "outputs": [],
   "source": [
    "total_sample_size =1000 #10000\n",
    "rnti_sample = np.random.uniform(np.min(selected_rnti), np.max(selected_rnti), total_sample_size)\n",
    "RB_index = 1\n",
    "TP_index = 3\n",
    "total_info = np.zeros((total_sample_size, 13))\n",
    "\n",
    "def SamplingperRnti(Data, fixed_RNTI):\n",
    "    sample_sm = Data[Data[:,2] == np.floor(fixed_RNTI), 1:4]   # RNTI = N 인 RB\n",
    "    sample_bg = Data[Data[:,2] == np.floor(fixed_RNTI)+1, 1:4]   # RNTI = N+1 인 RB\n",
    "    #print(len(sample_sm))\n",
    "    sample_size = np.minimum(50, np.minimum(len(sample_sm), len(sample_bg)))\n",
    "    resid_prob = fixed_RNTI-np.floor(fixed_RNTI)\n",
    "    sample_size_array = np.random.multinomial(sample_size, [1-resid_prob, resid_prob], size = 1)\n",
    "    sample_rnd_sm = sample_sm[np.random.choice(len(sample_sm),sample_size_array[0,0]),]   #fixed RNTI에 해당하는 RB 중 sample_size_array[0]만큼 ramdom 추출\n",
    "    sample_rnd_bg = sample_bg[np.random.choice(len(sample_bg),sample_size_array[0,1]),]   #fixed RNTI+1에 해당하는 RB 중 sample_size_array[1]만큼 ramdom 추출\n",
    "    #print(sample_rnd_sm)\n",
    "    sample_rnd_total = np.vstack((sample_rnd_sm, sample_rnd_bg))\n",
    "    \n",
    "    RB_sample = sample_rnd_total[:,0]\n",
    "    TP_sample = np.round(sample_rnd_total[:,2], decimals=3)\n",
    "    \n",
    "    return(RB_sample, TP_sample)"
   ]
  },
  {
   "cell_type": "code",
   "execution_count": 174,
   "metadata": {},
   "outputs": [
    {
     "name": "stdout",
     "output_type": "stream",
     "text": [
      "0.8178295421121836\n"
     ]
    }
   ],
   "source": [
    "### multivariate normal test using Henze-Zirkler method\n",
    "\n",
    "def Tvariable(n, k, Data):\n",
    "    S = np.cov(Data.T, bias = True)\n",
    "    beta = (1/np.sqrt(2))*((n*(2*k+1)/4)**(1/(k+4)))\n",
    "    C = n*(1 + 2*beta**2)**(-k/2)  \n",
    "    B = 0; T = 0\n",
    "    for i in range(n):\n",
    "        A = 0\n",
    "        for j in range(n):\n",
    "            #print(np.matmul(np.matmul((Data[i]- Data[j]).transpose(), inv(S)), (Data[i]-Data[j])))\n",
    "            A += np.exp(-(beta**2/2)*(np.matmul(np.matmul((Data[i]- Data[j]).transpose(), inv(S)), (Data[i]-Data[j]))))\n",
    "        B = np.exp(-(beta**2/(2*(1+beta**2)))*(np.matmul(np.matmul((Data[i]- np.mean(Data, axis = 0)).transpose(), inv(S)), (Data[i]-np.mean(Data, axis = 0)))))\n",
    "        T += (1/n)*A -2*(1 + beta**2)**(-k/2) * B\n",
    "    #print(beta, A, B, C, T)\n",
    "    return beta, T + C\n",
    "        \n",
    "\n",
    "def Moments(beta, k):\n",
    "    w = (1+beta**2)*(1+3*beta**2)\n",
    "    Expec_T = 1-((1 + 2*beta**2)**(-k/2)*(1 + k*beta**2/(1+2*beta**2) + k*(k+2)*beta**4/2/(1+2*beta**2)**2))\n",
    "    Var_T = 2*(1 + 4*beta**2)**(-k/2) + 2*((1+2*beta**2)**(-k))*(1+ 2*k*beta**4/(1+2*beta**2)**2 + (3*k*(k+2)*beta**8)/(4*(1+2*beta**2)**4))\n",
    "    -(4*w**(-k/2))*(1 + (3*k*beta**4/2/w) + (k*(k+2)*beta**8/2/w**2))\n",
    "    #print(w, Expec_T, Var_T)\n",
    "    return Expec_T, Var_T\n",
    "\n",
    "def jointpval(n, k, Data):\n",
    "    beta, T = Tvariable(n, k, Data)\n",
    "    Expec_T, Var_T = Moments(beta, k)\n",
    "    VZ = np.log(1+Var_T/(Expec_T**2))\n",
    "    EZ = np.log(Expec_T) - VZ/2\n",
    "    #print(VZ, EZ)\n",
    "    stand_z = (np.log(T) - EZ)/(np.sqrt(VZ) + 10**(-9))\n",
    "    joint_pval = 2*norm.cdf(-np.absolute(stand_z))\n",
    "    return joint_pval\n",
    "\n",
    "\n",
    "Y = np.random.normal(0,1, (50,2))\n",
    "X = np.array([[1,2],[3,4]])\n",
    "pval_test = jointpval(50, 2, np.matmul(X,Y.T).T)\n",
    "\n",
    "print(pval_test)\n"
   ]
  },
  {
   "cell_type": "code",
   "execution_count": null,
   "metadata": {
    "scrolled": true
   },
   "outputs": [],
   "source": [
    "def FindParams(fixed_rnti, Data):\n",
    "    RB_rnd_sample, TP_rnd_sample = SamplingperRnti(Data, fixed_rnti)   # random한 RNTI에 대해 RB, TP random sampling\n",
    "    a_RB, b_RB, c_RB, pv, rt, tq = RB_fit(RB_rnd_sample)\n",
    "    if (pv > 0.05):\n",
    "        RB_trans_data = rt\n",
    "        a_TP, b_TP, c_TP, pv, rt, tq = TP_fit(TP_rnd_sample)\n",
    "        if(pv > 0.05):\n",
    "            TP_trans_data = rt\n",
    "            total_trans_data = np.hstack((RB_trans_data.reshape(-1,1), TP_trans_data.reshape(-1,1)))   # transformed data로 total data 생성\n",
    "            joint_pv = jointpval(len(TP_trans_data), 2, total_trans_data)\n",
    "            print(joint_pv)\n",
    "            if joint_pv > 0.05:   # joint normal 만족하는지\n",
    "                print(joint_pv)\n",
    "                total_params = np.array([fixed_rnti, a_RB, b_RB, c_RB, a_TP, b_TP, c_TP])\n",
    "                print(total_params)\n",
    "                return total_params\n",
    "            else:\n",
    "                return [0]\n",
    "        else:\n",
    "                return [0]\n",
    "    else:\n",
    "                return [0]\n",
    "                \n",
    "ParamArray = np.zeros((7))\n",
    "for i in range(total_sample_size):\n",
    "    fixed_rnti = rnti_sample[i]\n",
    "    print(fixed_rnti)\n",
    "    params = FindParams(fixed_rnti, Data)\n",
    "    if len(params) == 7:\n",
    "        ParamArray = np.vstack((ParamArray, params))\n",
    "    else:\n",
    "        continue\n",
    "    #PCI 별로 나눌 필요: x\n",
    "        "
   ]
  },
  {
   "cell_type": "code",
   "execution_count": 179,
   "metadata": {},
   "outputs": [],
   "source": [
    "# TP_test_sm = Data[Data[:,2] == fixed_RNTI, TP_index]   # RNTI = N 인 TP\n",
    "# TP_test_bg = Data[Data[:,2] == fixed_RNTI+1, TP_index]   # RNTI = N+1 인 TP\n",
    "\n",
    "# sample_size = min(50, min(len(TP_test_sm), len(TP_test_bg)))\n",
    "# resid_prob = fixed_RNTI-np.floor(fixed_RNTI)\n",
    "# sample_size_array = np.random.multinomial(sample_size, [resid_prob, 1-resid_prob])\n",
    "\n",
    "\n",
    "# TP_rnd_sm = TP_test_sm[np.random.choice(len(TP_test_sm),sample_size_array[0])]   #fixed RNTI에 해당하는 TP 중 sample_size_array[0]만큼 ramdom 추출\n",
    "# TP_rnd_bg = TP_test_bg[np.random.choice(len(TP_test_bg),sample_size_arrat[1])]   #fixed RNTI+1에 해당하는 TP 중 sample_size_array[1]만큼 ramdom 추출\n",
    "# TP_rnd_total = np.hstack(TP_rnd_sm, TP_rnd_bg)\n",
    "# a, b, c, pv, rt, tq = TP_fit(TP_rnd_total)\n",
    "\n",
    "# print('a=', a, 'b=', b, 'c=', c, 'pv=', pv)\n",
    "# plt.figure(figsize=(10,10))\n",
    "# f = plt.subplot(1, 1, 1)\n",
    "# f.plot(tq, tt, color = 'tab:blue', linewidth = 0, marker='o', markersize = 6)\n",
    "# print(f)\n",
    "\n"
   ]
  }
 ],
 "metadata": {
  "kernelspec": {
   "display_name": "Python 3",
   "language": "python",
   "name": "python3"
  },
  "language_info": {
   "codemirror_mode": {
    "name": "ipython",
    "version": 3
   },
   "file_extension": ".py",
   "mimetype": "text/x-python",
   "name": "python",
   "nbconvert_exporter": "python",
   "pygments_lexer": "ipython3",
   "version": "3.6.4"
  }
 },
 "nbformat": 4,
 "nbformat_minor": 2
}
