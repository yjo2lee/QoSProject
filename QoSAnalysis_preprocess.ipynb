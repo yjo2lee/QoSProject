{
 "cells": [
  {
   "cell_type": "code",
   "execution_count": 73,
   "metadata": {},
   "outputs": [],
   "source": [
    "# -*- coding: utf-8 -*-\n",
    "\n",
    "import openpyxl\n",
    "import numpy as np\n",
    "from scipy import stats\n",
    "import matplotlib.pyplot as plt\n",
    "from numpy.linalg import inv\n",
    "from scipy.stats import norm\n",
    "\n",
    "\n",
    "def QQ(vec):\n",
    "    v = np.sort(vec)\n",
    "    q = stats.norm.ppf((np.arange(len(v))+1-0.375)/(len(v)+0.25))\n",
    "    return v, q\n",
    "\n",
    "def RB_fit(RB):\n",
    "    #RB_raw = np.array(RB)\n",
    "    RB_ord = np.sort(RB)/100\n",
    "    th_q = stats.norm.ppf((np.arange(len(RB))+1-0.375)/(len(RB)+0.25))\n",
    "    q = th_q\n",
    "    l = np.log(RB_ord)\n",
    "    h = np.log(1-RB_ord)\n",
    "    d = (np.mean(l*l) - pow(np.mean(l),2))*(np.mean(h*h) - pow(np.mean(h),2)) - pow(np.mean(l*h) - np.mean(l)*np.mean(h),2)\n",
    "    d1 = (np.mean(h*h) - pow(np.mean(h),2))*(np.mean(l*q) - np.mean(l)*np.mean(q))-(np.mean(l*h) - np.mean(l)*np.mean(h))*(np.mean(h*q) - np.mean(h)*np.mean(q))\n",
    "    d2 = (np.mean(l*h) - np.mean(l)*np.mean(h))*(np.mean(l*q) - np.mean(l)*np.mean(q)) - (np.mean(l*l) - pow(np.mean(l),2))*(np.mean(h*q) - np.mean(h)*np.mean(q))\n",
    "    if d1 < 0:\n",
    "        a = 0\n",
    "        b = -(np.mean(h*q) - np.mean(h)*np.mean(q))/(np.mean(h*h) - pow(np.mean(h),2))\n",
    "    elif d2 < 0:\n",
    "        a = (np.mean(l*q) - np.mean(l)*np.mean(q))/(np.mean(l*l) - pow(np.mean(l),2))\n",
    "        b = 0\n",
    "    else:\n",
    "        a = d1/d\n",
    "        b = d2/d\n",
    "#     a = d1/d\n",
    "#     b = d2/d\n",
    "    c = np.mean(q) - a*np.mean(l) + b*np.mean(h)\n",
    "    RB_t = a*np.log(RB/100) - b*np.log(1-RB/100) + c\n",
    "    _, pv = stats.shapiro(RB_t)\n",
    "    return a, b, c, pv, RB_t, th_q\n",
    "\n",
    "def TP_fit(TP):\n",
    "    TP_ord = np.sort(TP)\n",
    "    th_q = stats.norm.ppf((np.arange(len(TP))+1-0.375)/(len(TP)+0.25))\n",
    "    q = th_q\n",
    "    g = np.log(TP_ord)\n",
    "    t = TP_ord\n",
    "    d = (np.mean(g*g) - pow(np.mean(g),2))*(np.mean(t*t) - pow(np.mean(t),2)) - pow(np.mean(g*t) - np.mean(g)*np.mean(t),2)\n",
    "    d1 = (np.mean(t*t) - pow(np.mean(t),2))*(np.mean(g*q) - np.mean(g)*np.mean(q))-(np.mean(g*t) - np.mean(g)*np.mean(t))*(np.mean(t*q) - np.mean(t)*np.mean(q))\n",
    "    d2 = (np.mean(g*g) - pow(np.mean(g),2))*(np.mean(t*q) - np.mean(t)*np.mean(q))-(np.mean(t*g) - np.mean(t)*np.mean(g))*(np.mean(g*q) - np.mean(g)*np.mean(q))\n",
    "    if d1 < 0:\n",
    "        a = 0\n",
    "        b = (np.mean(t*q) - np.mean(t)*np.mean(q))/(np.mean(t*t) - pow(np.mean(t),2))\n",
    "    elif d2 < 0:\n",
    "        a = (np.mean(g*q) - np.mean(g)*np.mean(q))/(np.mean(g*g) - pow(np.mean(g),2))\n",
    "        b = 0\n",
    "    else:\n",
    "        a = d1/d\n",
    "        b = d2/d\n",
    "#     a = d1/d\n",
    "#     b = d2/d\n",
    "    c = np.mean(q) - a*np.mean(g) - b*np.mean(t)\n",
    "    TP_t = a*np.log(TP) + b*TP + c\n",
    "    _, pv = stats.shapiro(TP_t)\n",
    "    return a, b, c, pv, TP_t, th_q\n",
    "\n",
    "RD = openpyxl.load_workbook('data_prep_ver2.xlsx', data_only=True)\n",
    "st = RD['Sheet2']   #band 20MHz\n",
    "#st = RD['Sheet1']   #band 10MHz\n",
    "\n",
    "Data = np.zeros((1,5))\n",
    "i = 2\n",
    "value = st['B%d' %i].value\n",
    "while value != None:\n",
    "    Data = np.vstack((Data, np.array([st['B%d' %i].value, st['C%d' % i].value, st['D%d' %i].value, st['E%d' %i].value, st['F%d' %i].value])))\n",
    "    # PCI, RB, RNTI, TP, Timestamp\n",
    "    i += 1\n",
    "    value = st['B%d' %i].value\n",
    "Data = Data[1:,:].astype(np.float64)"
   ]
  },
  {
   "cell_type": "code",
   "execution_count": 74,
   "metadata": {},
   "outputs": [],
   "source": [
    "#length가 30 미만인 RNTI 삭제\n",
    "len_per_rnti = np.array([len(Data[Data[:,2] == np.float(i), 1]) for i in range(20)])\n",
    "selected_rnti = np.where(len_per_rnti>30)\n",
    "Data = Data[np.where(np.isin(Data[:,2], selected_rnti)),]\n",
    "Data = np.reshape(Data, (len(Data[0]),5))"
   ]
  },
  {
   "cell_type": "code",
   "execution_count": 75,
   "metadata": {},
   "outputs": [],
   "source": [
    "def Roystontest(n, k, Data):\n",
    "    x = np.log(n)\n",
    "    gamma = 0\n",
    "    mu = -1.5861 - 0.31082*x - 0.083751*pow(x,2) + 0.0038915*pow(x,3)\n",
    "    sigma = np.exp(-0.4803 -0.082676*x + 0.0030302*pow(x,2))\n",
    "    W1 = stats.shapiro(Data[:,0])[0]\n",
    "    W2 = stats.shapiro(Data[:,1])[0]\n",
    "    Z1 = (np.log(1-W1)-mu)/sigma   \n",
    "    Z2 = (np.log(1-W2)-mu)/sigma\n",
    "    G1 = stats.norm.ppf(stats.norm.cdf(-Z1)/2)**2\n",
    "    G2 = stats.norm.ppf(stats.norm.cdf(-Z2)/2)**2\n",
    "    u = 0.715\n",
    "    v = 0.21364+0.015124*pow(x,2)-0.0018034*pow(x,3)\n",
    "    la = 5\n",
    "    corr_data = np.corrcoef(Data[:,0],Data[:,1])\n",
    "    new_corr = pow(corr_data,la) * (1 - u*pow(1 - corr_data,u)/v)\n",
    "    total_corr = np.sum(new_corr) - k\n",
    "    avg_corr = total_corr/(k**2-k)\n",
    "    est_e = k/(1 + (k - 1) * avg_corr)\n",
    "    Roys = est_e*(G1+G2)/k\n",
    "    p_value = 1- stats.chi2.cdf(Roys, df = est_e)\n",
    "    return p_value"
   ]
  },
  {
   "cell_type": "code",
   "execution_count": 76,
   "metadata": {},
   "outputs": [],
   "source": [
    "selected_rnti = np.array(selected_rnti)\n",
    "selected_rnti = selected_rnti.reshape(-1)"
   ]
  },
  {
   "cell_type": "code",
   "execution_count": 77,
   "metadata": {},
   "outputs": [],
   "source": [
    "def rntiprob(length):\n",
    "    rntiprob = np.zeros(length)   #rnti의 비율 계산\n",
    "    rntiprobsum = np.zeros(length)   # rnti 비율 누적\n",
    "    for i in range(length):\n",
    "        rntiprob[i] = len(Data[Data[:,2] == (i+3),2])/len(Data[:,2])\n",
    "    for i in range(length):\n",
    "        rntiprobsum[i] = sum(rntiprob[0:i+1])\n",
    "    return rntiprobsum\n",
    "\n",
    "rntiprobsum = rntiprob(len(selected_rnti))\n",
    "def fixRNTI(rntiprobsum):\n",
    "    a = np.random.uniform(0,1)\n",
    "    i = 0\n",
    "    while rntiprobsum[i] < a:\n",
    "        i = i+1\n",
    "    return i+3\n",
    "\n",
    "#fixRNTI(rntiprob(len(selected_rnti)))"
   ]
  },
  {
   "cell_type": "code",
   "execution_count": 79,
   "metadata": {},
   "outputs": [
    {
     "name": "stdout",
     "output_type": "stream",
     "text": [
      "end\n"
     ]
    }
   ],
   "source": [
    "def SamplingperRnti(Data, fixed_RNTI):\n",
    "    RB_sample = Data[Data[:,2] == fixed_RNTI, 1]   # RNTI = N 인 RB,RNTI,TP \n",
    "    TP_sample = Data[Data[:,2] == fixed_RNTI, 3]\n",
    "    sampling_size = min(30, int(len(RB_sample)/2))\n",
    "    sample_index = np.random.choice(len(RB_sample),sampling_size, replace = False)\n",
    "    RB_sample = RB_sample[sample_index,]\n",
    "    TP_sample = TP_sample[sample_index,]\n",
    "    return(RB_sample, TP_sample)\n",
    "\n",
    "def FindParams(fixed_rnti, Data):\n",
    "    RB_rnd_sample, TP_rnd_sample = SamplingperRnti(Data, fixed_rnti)   # random한 RNTI에 대해 RB, TP random sampling\n",
    "    a_RB, b_RB, c_RB, pv_RB, RB_trans_data, tq_RB = RB_fit(RB_rnd_sample)\n",
    "    a_TP, b_TP, c_TP, pv_TP, TP_trans_data, tq_TP = TP_fit(TP_rnd_sample)\n",
    "    total_trans_data = np.hstack((RB_trans_data.reshape(-1,1), TP_trans_data.reshape(-1,1)))   # transformed data로 total data 생성\n",
    "    cov = np.cov(total_trans_data.T)[0,1]\n",
    "    #corr = np.corrcoef(total_trans_data.T)[0,1]\n",
    "    joint_pv_R = Roystontest(len(TP_trans_data), 2, total_trans_data)\n",
    "    se = np.mean(TP_rnd_sample*0.001/(RB_rnd_sample*2/100*10))\n",
    "    if (pv_RB > 0.05)& (pv_TP >0.05) & (joint_pv_R > 0.05):\n",
    "        return np.array([fixed_rnti, a_RB, b_RB, c_RB, a_TP, b_TP, c_TP, np.mean(total_trans_data), cov, se])\n",
    "    else:\n",
    "        return [0]\n",
    "    \n",
    "ParamArray = np.zeros((9))\n",
    "sample_size =10000\n",
    "\n",
    "i = 0\n",
    "transtp10 = []\n",
    "while i < sample_size:\n",
    "    fixed_rnti = fixRNTI(rntiprobsum)\n",
    "    #fixed_rnti = selected_rnti[np.random.randint(len(selected_rnti))]\n",
    "    params = FindParams(fixed_rnti, Data)\n",
    "    if len(params) == 9:\n",
    "        ParamArray = np.vstack((ParamArray, params))\n",
    "        i += 1\n",
    "    else:\n",
    "        continue\n",
    "    \n",
    "print(\"end\")"
   ]
  },
  {
   "cell_type": "code",
   "execution_count": 82,
   "metadata": {},
   "outputs": [],
   "source": [
    "raw_data_20 = ParamArray[1:,:]"
   ]
  },
  {
   "cell_type": "code",
   "execution_count": 63,
   "metadata": {},
   "outputs": [],
   "source": [
    "##### sample mean; 10MHz\n",
    "sample_mean_10MHz = np.zeros(9)\n",
    "for i in range(9):\n",
    "    sample_mean_10MHz[i] = np.mean(raw_data_10[np.where(np.isin(raw_data_10[:,0], i+3)),8])"
   ]
  },
  {
   "cell_type": "code",
   "execution_count": 83,
   "metadata": {},
   "outputs": [
    {
     "data": {
      "text/plain": [
       "array([0.88663964, 1.10382795, 1.14001456, 1.29547738, 1.38441841,\n",
       "       1.42375755, 1.40577229, 1.33541806, 1.31631048, 1.32914604,\n",
       "       1.20017431, 1.28866119, 1.28612811, 1.24677689, 1.22806563,\n",
       "       1.42759683])"
      ]
     },
     "execution_count": 83,
     "metadata": {},
     "output_type": "execute_result"
    }
   ],
   "source": [
    "##### sample mean; 20MHz\n",
    "sample_mean_20MHz = np.zeros(16)\n",
    "for i in range(16):\n",
    "    sample_mean_20MHz[i] = np.mean(raw_data_20[np.where(np.isin(raw_data_20[:,0], i+3)),8])\n",
    "sample_mean_20MHz"
   ]
  },
  {
   "cell_type": "code",
   "execution_count": 69,
   "metadata": {},
   "outputs": [],
   "source": [
    "np.save('sample_mean_10MHz', sample_mean_10MHz)\n",
    "np.save('sample_mean_20MHz', sample_mean_20MHz)"
   ]
  },
  {
   "cell_type": "code",
   "execution_count": 189,
   "metadata": {},
   "outputs": [],
   "source": [
    "### Mardia normality test\n",
    "def Mardiatest(n, k, Data):\n",
    "    def gamma(n, Data):\n",
    "        S = np.cov(Data.T, bias = True)\n",
    "        gamma_1 = 0; gamma_2 = 0; m_ij = 0\n",
    "        for i in range(n):\n",
    "            for j in range(n):\n",
    "                m_ij = np.matmul(np.matmul((Data[i]- np.mean(Data, axis = 0)).transpose(), inv(S)), (Data[j]-np.mean(Data, axis = 0)))\n",
    "                gamma_1 += m_ij\n",
    "                if j == i:\n",
    "                    gamma_2 += pow(m_ij, 2)\n",
    "\n",
    "        #print(beta, A, B, C, T)\n",
    "        return gamma_1/pow(n,2), gamma_2/n      \n",
    "    gamma1, gamma2 = gamma(n, Data)\n",
    "    gamma1_df = k*(k+1)*(k+2)/6\n",
    "    gamma2_mean = k*(k+2)\n",
    "    gamma2_var = 8*k*(k+2)/6\n",
    "    pvalue_gamma1 = 1- stats.chi2.cdf(gamma1*n/6, gamma1_df)\n",
    "    pvalue_gamma2 = 1- stats.norm.cdf(gamma2, loc = gamma2_mean, scale = gamma2_var)\n",
    "    return np.minimum(pvalue_gamma1, pvalue_gamma2)\n",
    "    "
   ]
  },
  {
   "cell_type": "code",
   "execution_count": 4,
   "metadata": {},
   "outputs": [],
   "source": [
    "### multivariate normal test using Henze-Zirkler method\n",
    "\n",
    "def Tvariable(n, k, Data):\n",
    "    S = np.cov(Data.T, bias = True)\n",
    "    beta = (1/np.sqrt(2))*((n*(2*k+1)/4)**(1/(k+4)))\n",
    "    C = n*(1 + 2*beta**2)**(-k/2)  \n",
    "    B = 0; T = 0\n",
    "    for i in range(n):\n",
    "        A = 0\n",
    "        for j in range(n):\n",
    "            A += np.exp(-(beta**2/2)*(np.matmul(np.matmul((Data[i]- Data[j]).transpose(), inv(S)), (Data[i]-Data[j]))))\n",
    "        B = np.exp(-(beta**2/(2*(1+beta**2)))*(np.matmul(np.matmul((Data[i]- np.mean(Data, axis = 0)).transpose(), inv(S)), (Data[i]-np.mean(Data, axis = 0)))))\n",
    "        T += (1/n)*A -2*(1 + beta**2)**(-k/2) * B\n",
    "    return beta, T + C       \n",
    "\n",
    "def Moments(beta, k):\n",
    "    w = (1+beta**2)*(1+3*beta**2)\n",
    "    Expec_T = 1-((1 + 2*beta**2)**(-k/2)*(1 + k*beta**2/(1+2*beta**2) + k*(k+2)*beta**4/2/(1+2*beta**2)**2))\n",
    "    Var_T = 2*(1 + 4*beta**2)**(-k/2) + 2*((1+2*beta**2)**(-k))*(1+ 2*k*beta**4/(1+2*beta**2)**2 + (3*k*(k+2)*beta**8)/(4*(1+2*beta**2)**4))-(4*w**(-k/2))*(1 + (3*k*beta**4/2/w) + (k*(k+2)*beta**8/2/w**2))\n",
    "    return Expec_T, Var_T\n",
    "\n",
    "def jointpval(n, k, Data):\n",
    "    beta, T = Tvariable(n, k, Data)\n",
    "    Expec_T, Var_T = Moments(beta, k)\n",
    "    VZ = np.log(1+ Var_T/(Expec_T**2))\n",
    "    SD = np.sqrt(VZ)\n",
    "    EZ = np.log(np.sqrt(Expec_T**4/(Var_T+Expec_T**2)))\n",
    "    stand_z = (T - EZ)/(np.sqrt(VZ))\n",
    "    joint_pval = 1-stats.lognorm.cdf(T, s = SD, scale = np.exp(EZ))\n",
    "    #print(T, Expec_T, Var_T, EZ, SD, stand_z)    \n",
    "    return joint_pval"
   ]
  },
  {
   "cell_type": "code",
   "execution_count": 171,
   "metadata": {},
   "outputs": [
    {
     "name": "stdout",
     "output_type": "stream",
     "text": [
      "[NbConvertApp] Converting notebook QoSAnalysis_preprocess.ipynb to script\n",
      "[NbConvertApp] Writing 12260 bytes to QoSAnalysis_preprocess.py\n"
     ]
    }
   ],
   "source": [
    "!jupyter nbconvert --to script QoSAnalysis_preprocess.ipynb"
   ]
  },
  {
   "cell_type": "code",
   "execution_count": null,
   "metadata": {},
   "outputs": [],
   "source": []
  }
 ],
 "metadata": {
  "kernelspec": {
   "display_name": "Python 3",
   "language": "python",
   "name": "python3"
  },
  "language_info": {
   "codemirror_mode": {
    "name": "ipython",
    "version": 3
   },
   "file_extension": ".py",
   "mimetype": "text/x-python",
   "name": "python",
   "nbconvert_exporter": "python",
   "pygments_lexer": "ipython3",
   "version": "3.6.4"
  }
 },
 "nbformat": 4,
 "nbformat_minor": 2
}
